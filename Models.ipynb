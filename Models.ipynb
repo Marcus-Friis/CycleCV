{
 "cells": [
  {
   "cell_type": "code",
   "execution_count": null,
   "metadata": {},
   "outputs": [],
   "source": [
    "import pickle\n",
    "import pandas as pd\n",
    "import numpy as np\n",
    "import matplotlib.pyplot as plt\n",
    "from PIL import Image, ImageOps\n",
    "\n",
    "from sklearn.neural_network import MLPRegressor\n",
    "from sklearn.ensemble import RandomForestRegressor"
   ]
  },
  {
   "cell_type": "markdown",
   "metadata": {},
   "source": [
    "## load data and train model"
   ]
  },
  {
   "cell_type": "code",
   "execution_count": null,
   "metadata": {},
   "outputs": [],
   "source": [
    "with open(\"train.pkl\", \"rb\") as f:\n",
    "    df = pickle.load(f)\n",
    "    \n",
    "x = df[['x_pos', 'y_pos', 'x_vec', 'y_vec', 'x_dest', 'y_dest']].to_numpy()\n",
    "y = df[['x_tar', 'y_tar']].to_numpy()"
   ]
  },
  {
   "cell_type": "code",
   "execution_count": null,
   "metadata": {
    "scrolled": true
   },
   "outputs": [],
   "source": [
    "# clf = MLPRegressor(verbose=True, hidden_layer_sizes=(25, 100, 50,25), max_iter=100).fit(x,y)"
   ]
  },
  {
   "cell_type": "code",
   "execution_count": null,
   "metadata": {},
   "outputs": [],
   "source": [
    "clf = RandomForestRegressor(max_depth).fit(x,y)"
   ]
  },
  {
   "cell_type": "code",
   "execution_count": null,
   "metadata": {},
   "outputs": [],
   "source": [
    "# with open('model.pkl', 'wb') as f:\n",
    "#     pickle.dump(clf, f)"
   ]
  },
  {
   "cell_type": "code",
   "execution_count": null,
   "metadata": {},
   "outputs": [],
   "source": [
    "# with open('model.pkl', 'rb') as f:\n",
    "#     clf = pickle.load(f)"
   ]
  },
  {
   "cell_type": "markdown",
   "metadata": {},
   "source": [
    "## validate model"
   ]
  },
  {
   "cell_type": "code",
   "execution_count": null,
   "metadata": {},
   "outputs": [],
   "source": [
    "with open('val.pkl', 'rb') as f:\n",
    "    val = pickle.load(f)\n",
    "x_val = val[['x_pos', 'y_pos', 'x_vec', 'y_vec', 'x_dest', 'y_dest']].to_numpy()\n",
    "y_val = val[['x_tar', 'y_tar']].to_numpy()"
   ]
  },
  {
   "cell_type": "code",
   "execution_count": null,
   "metadata": {},
   "outputs": [],
   "source": [
    "clf.score(x_val, y_val)"
   ]
  },
  {
   "cell_type": "markdown",
   "metadata": {},
   "source": [
    "## simulate trajectories"
   ]
  },
  {
   "cell_type": "code",
   "execution_count": null,
   "metadata": {},
   "outputs": [],
   "source": [
    "def simulate(clf, input, iterations, margin):\n",
    "    for i in range(iterations):\n",
    "        if input[i][0] < input[i][4] + margin and input[i][0] > input[i][4] - margin and input[i][1] < input[i][5] + margin and input[i][1] > input[i][5] - margin:\n",
    "            return np.array(input)\n",
    "        output = clf.predict([input[i]])\n",
    "        next = [output[0][0]+input[i][0], output[0][1]+input[i][1], output[0][0], output[0][1], input[i][-2], input[i][-1]]\n",
    "        input.append(next)\n",
    "    return np.array(input)"
   ]
  },
  {
   "cell_type": "code",
   "execution_count": null,
   "metadata": {
    "scrolled": false
   },
   "outputs": [],
   "source": [
    "tis = [[[580*2, 50*2, 0, 0, 550*2, 250*2]],\n",
    "        [[580*2, 50*2, 0, 0, 250*2, 280*2]],\n",
    "        [[200*2, 225*2, 0, 0, 500*2, 250*2]],\n",
    "        [[125*2, 200*2, 0, 0, 460*2, 50*2]],\n",
    "        [[580*2, 50*2, 0, 0, 250*2, 300*2]],\n",
    "        [[150*2, 240*2, 0, 0, 250*2, 300*2]]]\n",
    "\n",
    "fig, ax = plt.subplots(figsize=(20,20))\n",
    "im = Image.open(\"intersection2.png\")\n",
    "im = ImageOps.flip(im)\n",
    "ax.set_xlim(0,1280)\n",
    "ax.set_ylim(0,720)\n",
    "ax.imshow(im, origin='lower')\n",
    "sims = []\n",
    "for n in tis:\n",
    "    sim = simulate(clf, n, 100, 25)\n",
    "    sims.append(sim)\n",
    "    ax.plot(sim[:,:1], sim[:,1:2])\n",
    "    ax.scatter(sim[:,:1], sim[:,1:2])\n",
    "sims = np.array(sims)"
   ]
  },
  {
   "cell_type": "code",
   "execution_count": null,
   "metadata": {},
   "outputs": [],
   "source": [
    "from sampler import Sampler\n",
    "s = Sampler()\n",
    "tis = np.array([[0,0,0,0,0,0]])\n",
    "for _ in range(5):\n",
    "    sample = s.get_sample()\n",
    "    tis = np.concatenate((tis, [np.concatenate((sample[0], [0,0], sample[1]))]))\n",
    "\n",
    "fig, ax = plt.subplots(figsize=(20,20))\n",
    "im = Image.open(\"intersection2.png\")\n",
    "im = ImageOps.flip(im)\n",
    "ax.set_xlim(0,1280)\n",
    "ax.set_ylim(0,720)\n",
    "ax.imshow(im, origin='lower')\n",
    "sims = []\n",
    "for n in tis:\n",
    "    sim = simulate(clf, [n], 100, 25)\n",
    "    sims.append(sim)\n",
    "    ax.plot(sim[:,:1], sim[:,1:2])\n",
    "    ax.scatter(sim[:,:1], sim[:,1:2])\n",
    "sims = np.array(sims)"
   ]
  },
  {
   "cell_type": "markdown",
   "metadata": {},
   "source": [
    "## traffic light plotting"
   ]
  },
  {
   "cell_type": "code",
   "execution_count": null,
   "metadata": {},
   "outputs": [],
   "source": [
    "with open('bsc-3m/signals.pickle', 'rb') as f:\n",
    "    li = pickle.load(f)\n",
    "    \n",
    "with open('bsc-3m/signal_lines_true.pickle', 'rb') as f:\n",
    "    asd = pickle.load(f)"
   ]
  },
  {
   "cell_type": "code",
   "execution_count": null,
   "metadata": {},
   "outputs": [],
   "source": [
    "import matplotlib.patches as patches\n",
    "\n",
    "fig, ax = plt.subplots(figsize=(20,20))\n",
    "im = Image.open(\"intersection2.png\")\n",
    "im = ImageOps.flip(im)\n",
    "ax.set_xlim(0, 1280)\n",
    "ax.set_ylim(0,720)\n",
    "ax.imshow(im, origin='lower')\n",
    "\n",
    "# Create a Rectangle patch\n",
    "for ind in range(20):\n",
    "    w = asd[ind]['x'][1] - asd[ind]['x'][0]\n",
    "    h = asd[ind]['y'][1] - asd[ind]['y'][0]\n",
    "    rect = patches.Rectangle((asd[ind]['x'][0], asd[ind]['y'][0]), w, h, linewidth=1, edgecolor='r', facecolor='none', fill=True)\n",
    "\n",
    "    # Add the patch to the Axes\n",
    "    ax.add_patch(rect)"
   ]
  },
  {
   "cell_type": "markdown",
   "metadata": {},
   "source": [
    "## gif"
   ]
  },
  {
   "cell_type": "code",
   "execution_count": null,
   "metadata": {},
   "outputs": [],
   "source": [
    "from matplotlib.animation import FuncAnimation\n",
    "\n",
    "# asd = sims[:,:i,:2].reshape((-1,2)) / 2\n",
    "\n",
    "fig, ax = plt.subplots(figsize=(10,10))\n",
    "ax.imshow(im, origin='lower')\n",
    "\n",
    "\n",
    "k = [ax.scatter([], [], alpha=1) for _ in range(len(sims))]\n",
    "\n",
    "\n",
    "def animate(i):\n",
    "    if i==0:\n",
    "        for n in range(len(sims)):\n",
    "            k[n].set_offsets([[0,0]])\n",
    "    else:\n",
    "        for n in range(len(sims)):\n",
    "            asd = sims[n,:i,:2].reshape((-1,2))\n",
    "            k[n].set_offsets(asd)\n",
    "    return k\n",
    "\n",
    "anim = FuncAnimation(\n",
    "    fig, animate, interval=1, frames=400)#, blit=True)\n",
    "\n",
    "\n",
    "anim.save('hej.gif')"
   ]
  }
 ],
 "metadata": {
  "kernelspec": {
   "display_name": "Python 3",
   "language": "python",
   "name": "python3"
  },
  "language_info": {
   "codemirror_mode": {
    "name": "ipython",
    "version": 3
   },
   "file_extension": ".py",
   "mimetype": "text/x-python",
   "name": "python",
   "nbconvert_exporter": "python",
   "pygments_lexer": "ipython3",
   "version": "3.8.5"
  }
 },
 "nbformat": 4,
 "nbformat_minor": 4
}

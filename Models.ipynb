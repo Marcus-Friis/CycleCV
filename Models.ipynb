{
 "cells": [
  {
   "cell_type": "code",
   "execution_count": null,
   "metadata": {},
   "outputs": [],
   "source": [
    "import pickle\n",
    "import pandas as pd\n",
    "import numpy as np\n",
    "import matplotlib.pyplot as plt\n",
    "from PIL import Image, ImageOps\n",
    "\n",
    "from sklearn.neural_network import MLPRegressor"
   ]
  },
  {
   "cell_type": "code",
   "execution_count": null,
   "metadata": {},
   "outputs": [],
   "source": [
    "with open(\"training.pkl\", \"rb\") as f:\n",
    "    df = pickle.load(f)"
   ]
  },
  {
   "cell_type": "code",
   "execution_count": null,
   "metadata": {},
   "outputs": [],
   "source": [
    "x = df[['x_pos', 'y_pos', 'x_vec', 'y_vec', 'x_dest', 'y_dest']].to_numpy()\n",
    "y = df[['x_tar', 'y_tar']].to_numpy()"
   ]
  },
  {
   "cell_type": "code",
   "execution_count": null,
   "metadata": {
    "scrolled": true
   },
   "outputs": [],
   "source": [
    "clf = MLPRegressor(verbose=True, hidden_layer_sizes=(50,50), max_iter=100).fit(x,y)"
   ]
  },
  {
   "cell_type": "code",
   "execution_count": null,
   "metadata": {},
   "outputs": [],
   "source": [
    "with open('model.pkl', 'wb') as f:\n",
    "    pickle.dump(clf, f)"
   ]
  },
  {
   "cell_type": "code",
   "execution_count": null,
   "metadata": {},
   "outputs": [],
   "source": [
    "def simulate(clf, input, iterations):\n",
    "    for i in range(iterations):\n",
    "        output = clf.predict([input[i]])\n",
    "        next = [output[0][0]+input[i][0], output[0][1]+input[i][1], output[0][0], output[0][1], input[i][-2], input[i][-1]]\n",
    "        input.append(next)\n",
    "    return np.array(input)"
   ]
  },
  {
   "cell_type": "code",
   "execution_count": null,
   "metadata": {},
   "outputs": [],
   "source": [
    "input = [[580*2, 50*2, 0, 0, 550*2, 250*2]] # example input\n",
    "sim = simulate(clf, input, 10000)"
   ]
  },
  {
   "cell_type": "code",
   "execution_count": null,
   "metadata": {},
   "outputs": [],
   "source": [
    "tis = [[[580*2, 50*2, 0, 0, 550*2, 250*2]],\n",
    "        [[580*2, 50*2, 0, 0, 250*2, 280*2]],\n",
    "        [[200*2, 225*2, 0, 0, 500*2, 250*2]],\n",
    "        [[10*2, 200*2, 0, 0, 460*2, 10*2]],\n",
    "        [[580*2, 50*2, 0, 0, 240*2, 350*2]],\n",
    "        [[100*2, 200*2, 0, 0, 425*2, 50*2]]]\n",
    "\n",
    "fig, ax = plt.subplots(figsize=(20,20))\n",
    "im = Image.open(\"intersection2.png\")\n",
    "im = ImageOps.flip(im)\n",
    "ax.set_xlim(0,640)\n",
    "ax.set_ylim(0,360)\n",
    "ax.imshow(im, origin='lower')\n",
    "for n in tis:\n",
    "    sim = simulate(clf, n, 10000)\n",
    "    ax.plot(x[:,:1]/2, x[:,1:2]/2)\n",
    "    ax.scatter(sim[:,:1]/2, sim[:,1:2]/2)"
   ]
  }
 ],
 "metadata": {
  "kernelspec": {
   "display_name": "Python 3 (ipykernel)",
   "language": "python",
   "name": "python3"
  },
  "language_info": {
   "codemirror_mode": {
    "name": "ipython",
    "version": 3
   },
   "file_extension": ".py",
   "mimetype": "text/x-python",
   "name": "python",
   "nbconvert_exporter": "python",
   "pygments_lexer": "ipython3",
   "version": "3.9.7"
  }
 },
 "nbformat": 4,
 "nbformat_minor": 4
}

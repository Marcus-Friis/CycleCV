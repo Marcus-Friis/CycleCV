{
 "cells": [
  {
   "cell_type": "code",
   "execution_count": 1,
   "id": "cb471feb",
   "metadata": {},
   "outputs": [],
   "source": [
    "import pickle\n",
    "import pandas as pd\n",
    "import numpy as np\n",
    "import matplotlib.pyplot as plt\n",
    "from PIL import Image, ImageOps\n",
    "from sklearn.neural_network import MLPRegressor\n",
    "import pickle5 as pickle\n",
    "\n",
    "from sklearn.model_selection import train_test_split"
   ]
  },
  {
   "cell_type": "code",
   "execution_count": 2,
   "id": "032fac3e",
   "metadata": {},
   "outputs": [],
   "source": [
    "with open(\"bsc-3m/traj_01_elab.pkl\", \"rb\") as f:\n",
    "    df = pickle.load(f)"
   ]
  },
  {
   "cell_type": "code",
   "execution_count": 38,
   "id": "7e04a913",
   "metadata": {},
   "outputs": [
    {
     "data": {
      "text/plain": [
       "array(['Bicycle', 'Pedestrian', 'Car', 'Van', 'Light Truck', 'Bus',\n",
       "       'Motorcycle', 'Heavy Vehicle'], dtype=object)"
      ]
     },
     "execution_count": 38,
     "metadata": {},
     "output_type": "execute_result"
    }
   ],
   "source": [
    "cols=[\"id\",\"class\",\"xs\",\"ys\", \"xs_640x360\", \"ys_640x360\", \"times\", \"frame_in\", \"frame_out\", \"num_frames\"]\n",
    "data = df[cols]\n",
    "data[\"class\"].unique()"
   ]
  },
  {
   "cell_type": "code",
   "execution_count": 48,
   "id": "64853f17",
   "metadata": {},
   "outputs": [],
   "source": [
    "#id, class, xs, ys (or actually xs_640x360, ys_640x360 to plot it on the video/frame)\n",
    "cols=[\"id\",\"class\",\"xs\",\"ys\", \"xs_640x360\", \"ys_640x360\", \"times\", \"frame_in\", \"frame_out\", \"num_frames\"]\n",
    "data = df[cols]\n",
    "data = data.loc[(data['class'] == 'Car') | (data['class'] == 'Van') | (data['class'] == 'Light Truck') | (data['class'] == 'Motorcycle')] # select cars"
   ]
  },
  {
   "cell_type": "code",
   "execution_count": 51,
   "id": "7900a9ca",
   "metadata": {},
   "outputs": [],
   "source": [
    "data = data.loc[(data['class'] == 'Car')]"
   ]
  },
  {
   "cell_type": "code",
   "execution_count": 49,
   "id": "1bcd2f14",
   "metadata": {},
   "outputs": [
    {
     "data": {
      "text/plain": [
       "5276"
      ]
     },
     "execution_count": 49,
     "metadata": {},
     "output_type": "execute_result"
    }
   ],
   "source": [
    "len(data)"
   ]
  },
  {
   "cell_type": "code",
   "execution_count": 19,
   "id": "1b6d20c2",
   "metadata": {},
   "outputs": [
    {
     "data": {
      "text/plain": [
       "1319"
      ]
     },
     "execution_count": 19,
     "metadata": {},
     "output_type": "execute_result"
    }
   ],
   "source": [
    "735+324+73+142+45"
   ]
  },
  {
   "cell_type": "markdown",
   "id": "9fc04d87",
   "metadata": {},
   "source": [
    "### features\n",
    "    x_coordinate x # normalize\n",
    "    y_coordinate x\n",
    "    x_direction  x more!\n",
    "    y_direction  x\n",
    "    x_dest       x\n",
    "    y_dest       x\n",
    "    light_color # how\n",
    "    surrounding_traffic?\n",
    "    time?\n",
    "\n",
    "### target\n",
    "    next_x       x as vector please\n",
    "    next_y       x"
   ]
  },
  {
   "cell_type": "code",
   "execution_count": null,
   "id": "471c76bd",
   "metadata": {},
   "outputs": [],
   "source": [
    "def format_data(data, step_size):\n",
    "    # position\n",
    "    x_pos = np.array([])\n",
    "    y_pos = np.array([])\n",
    "\n",
    "    # target position\n",
    "    x_tar = np.array([])\n",
    "    y_tar = np.array([])\n",
    "\n",
    "    # direction vectors\n",
    "    x_vec = np.array([])\n",
    "    y_vec = np.array([])\n",
    "    \n",
    "    # direction vectors\n",
    "    x_vec2 = np.array([])\n",
    "    y_vec2 = np.array([])\n",
    "\n",
    "    # destination\n",
    "    x_dest = np.array([])\n",
    "    y_dest = np.array([])\n",
    "\n",
    "    # times\n",
    "    times = np.array([])\n",
    "\n",
    "    # frames\n",
    "    frames = np.array([])\n",
    "\n",
    "    for i in range(len(data)):\n",
    "        # current row\n",
    "        a = np.array(data['xs'].iloc[i][::step_size])\n",
    "        b = np.array(data['ys'].iloc[i][::step_size])\n",
    "        if len(a) <= 2:\n",
    "            continue\n",
    "        \n",
    "\n",
    "        # compute position\n",
    "        x_pos = np.concatenate((x_pos, a[:-1]))\n",
    "        y_pos = np.concatenate((y_pos, b[:-1]))\n",
    "\n",
    "        # compute target vector\n",
    "        x_tar = np.concatenate((x_tar, a[1:]-a[:-1]))\n",
    "        y_tar = np.concatenate((y_tar, b[1:]-b[:-1]))\n",
    "\n",
    "        # compute direction vectors\n",
    "        x_prev = np.concatenate(([a[0]], a[:-2]))\n",
    "        y_prev = np.concatenate(([b[0]], b[:-2]))\n",
    "        x_vec = np.concatenate((x_vec, (a[:-1] - x_prev)))\n",
    "        y_vec = np.concatenate((y_vec, (b[:-1] - y_prev)))\n",
    "        \n",
    "        # compute direction vectors\n",
    "        x_prev2 = np.concatenate(([x_prev[0]], x_prev[:-1]))\n",
    "        y_prev2 = np.concatenate(([y_prev[0]], y_prev[:-1]))\n",
    "        x_vec2 = np.concatenate((x_vec2, (x_prev - x_prev2)))\n",
    "        y_vec2 = np.concatenate((y_vec2, (y_prev - y_prev2)))\n",
    "\n",
    "        # destination\n",
    "        x_dest = np.concatenate((x_dest, [a[-1]]*(len(a)-1)))\n",
    "        y_dest = np.concatenate((y_dest, [b[-1]]*(len(b)-1)))\n",
    "        \n",
    "    df = pd.DataFrame({\n",
    "                        'x_pos' : x_pos, 'y_pos' : y_pos,\n",
    "                        'x_vec' : x_vec, 'y_vec' : y_vec,\n",
    "                        'x_vec2' : x_vec2, 'y_vec2' : y_vec2,\n",
    "                        'x_tar' : x_tar, 'y_tar' : y_tar,\n",
    "                        'x_dest' : x_dest, 'y_dest' : y_dest\n",
    "                      })\n",
    "    return df"
   ]
  },
  {
   "cell_type": "code",
   "execution_count": null,
   "id": "53d0ace7",
   "metadata": {
    "scrolled": true
   },
   "outputs": [],
   "source": [
    "df_train, df_val = train_test_split(data, test_size=0.2, random_state=1)\n",
    "\n",
    "df_out = format_data(df_train, 15)\n",
    "with open('train.pkl', 'wb') as f:\n",
    "    pickle.dump(df_out, f)\n",
    "\n",
    "\n",
    "df_out = format_data(df_val, 15)\n",
    "with open('val.pkl', 'wb') as f:\n",
    "    pickle.dump(df_out, f)"
   ]
  }
 ],
 "metadata": {
  "kernelspec": {
   "display_name": "Python 3 (ipykernel)",
   "language": "python",
   "name": "python3"
  },
  "language_info": {
   "codemirror_mode": {
    "name": "ipython",
    "version": 3
   },
   "file_extension": ".py",
   "mimetype": "text/x-python",
   "name": "python",
   "nbconvert_exporter": "python",
   "pygments_lexer": "ipython3",
   "version": "3.7.11"
  }
 },
 "nbformat": 4,
 "nbformat_minor": 5
}

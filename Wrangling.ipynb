{
 "cells": [
  {
   "cell_type": "code",
   "execution_count": null,
   "id": "8db13e23",
   "metadata": {},
   "outputs": [],
   "source": [
    "import pickle\n",
    "import pandas as pd\n",
    "import numpy as np\n",
    "import matplotlib.pyplot as plt\n",
    "from PIL import Image, ImageOps\n",
    "from sklearn.neural_network import MLPRegressor\n",
    "import pickle as pickle"
   ]
  },
  {
   "cell_type": "code",
   "execution_count": null,
   "id": "50b567b9",
   "metadata": {},
   "outputs": [],
   "source": [
    "with open(\"bsc-3m/traj_01_elab.pkl\", \"rb\") as f:\n",
    "    df = pickle.load(f)"
   ]
  },
  {
   "cell_type": "code",
   "execution_count": null,
   "id": "858b5bb9",
   "metadata": {},
   "outputs": [],
   "source": [
    "#id, class, xs, ys (or actually xs_640x360, ys_640x360 to plot it on the video/frame)\n",
    "cols=[\"id\",\"class\",\"xs\",\"ys\", \"xs_640x360\", \"ys_640x360\", \"times\", \"frame_in\", \"frame_out\", \"num_frames\"]\n",
    "data = df[cols]\n",
    "data = data.loc[data['class'] == 'Car'] # select cars"
   ]
  },
  {
   "cell_type": "code",
   "execution_count": null,
   "id": "ee3c7a4f",
   "metadata": {},
   "outputs": [],
   "source": [
    "# traffic light data\n",
    "with open('bsc-3m/signals.pickle', 'rb') as f:\n",
    "    li = pickle.load(f)\n",
    "    \n",
    "with open('bsc-3m/signal_lines_true.pickle', 'rb') as f:\n",
    "    asd = pickle.load(f)"
   ]
  },
  {
   "cell_type": "code",
   "execution_count": null,
   "id": "40671ddb",
   "metadata": {},
   "outputs": [],
   "source": [
    "df = pd.read_csv('bsc-3m/signals_dense.csv')"
   ]
  },
  {
   "cell_type": "markdown",
   "id": "abc0e38a",
   "metadata": {},
   "source": [
    "### features\n",
    "    x_coordinate x # normalize\n",
    "    y_coordinate x\n",
    "    x_direction  x more!\n",
    "    y_direction  x\n",
    "    x_dest       x\n",
    "    y_dest       x\n",
    "    light_color # how\n",
    "    surrounding_traffic?\n",
    "    time?\n",
    "\n",
    "### target\n",
    "    next_x       x as vector please\n",
    "    next_y       x"
   ]
  },
  {
   "cell_type": "code",
   "execution_count": null,
   "id": "c906d4c3",
   "metadata": {},
   "outputs": [],
   "source": [
    "# position\n",
    "x_pos = np.array([])\n",
    "y_pos = np.array([])\n",
    "\n",
    "# target position\n",
    "x_tar = np.array([])\n",
    "y_tar = np.array([])\n",
    "\n",
    "# direction vectors\n",
    "x_vec = np.array([])\n",
    "y_vec = np.array([])\n",
    "\n",
    "# destination\n",
    "\n",
    "x_dest = np.array([])\n",
    "y_dest = np.array([])\n",
    "\n",
    "# times\n",
    "times = np.array([])\n",
    "\n",
    "# Frames step size\n",
    "step_size = 15\n",
    "\n",
    "for i in range(len(data)):\n",
    "    # current row\n",
    "    a = np.array(data['xs'].iloc[i][::step_size])\n",
    "    b = np.array(data['ys'].iloc[i][::step_size])\n",
    "    \n",
    "    # compute position\n",
    "    x_pos = np.concatenate((x_pos, a[:-1]))\n",
    "    y_pos = np.concatenate((y_pos, b[:-1]))\n",
    "    \n",
    "    # compute target vector\n",
    "    x_tar = np.concatenate((x_tar, a[1:]-a[:-1]))\n",
    "    y_tar = np.concatenate((y_tar, b[1:]-b[:-1]))\n",
    "\n",
    "    # compute direction vectors\n",
    "    x_prev = np.concatenate(([a[0]], a[:-2]))\n",
    "    y_prev = np.concatenate(([b[0]], b[:-2]))\n",
    "    x_vec = np.concatenate((x_vec, (a[:-1] - x_prev)))\n",
    "    y_vec = np.concatenate((y_vec, (b[:-1] - y_prev)))\n",
    "    \n",
    "    # destination\n",
    "    x_dest = np.concatenate((x_dest, [a[-1]]*(len(a)-1)))\n",
    "    y_dest = np.concatenate((y_dest, [b[-1]]*(len(b)-1)))\n",
    "    \n",
    "    # times\n",
    "    times = np.concatenate((times, data['times'].iloc[i][::step_size][:-1]))"
   ]
  },
  {
   "cell_type": "code",
   "execution_count": null,
   "id": "5dc343ec",
   "metadata": {
    "scrolled": true
   },
   "outputs": [],
   "source": [
    "df = pd.DataFrame({'x_pos' : x_pos, 'y_pos' : y_pos,\n",
    "              'x_vec' : x_vec, 'y_vec' : y_vec,\n",
    "              'x_tar' : x_tar, 'y_tar' : y_tar,\n",
    "              'x_dest' : x_dest, 'y_dest' : y_dest,\n",
    "              'times' : times})\n",
    "\n",
    "with open('training.pkl', 'wb') as f:\n",
    "    pickle.dump(df, f)"
   ]
  }
 ],
 "metadata": {
  "kernelspec": {
   "display_name": "Python 3 (ipykernel)",
   "language": "python",
   "name": "python3"
  },
  "language_info": {
   "codemirror_mode": {
    "name": "ipython",
    "version": 3
   },
   "file_extension": ".py",
   "mimetype": "text/x-python",
   "name": "python",
   "nbconvert_exporter": "python",
   "pygments_lexer": "ipython3",
   "version": "3.9.7"
  }
 },
 "nbformat": 4,
 "nbformat_minor": 5
}

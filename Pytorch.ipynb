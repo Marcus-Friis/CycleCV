{
 "cells": [
  {
   "cell_type": "code",
   "execution_count": 6,
   "metadata": {},
   "outputs": [],
   "source": [
    "import torch\n",
    "import torch.nn as nn\n",
    "import torch.optim as optim\n",
    "from torch.utils.data import TensorDataset, DataLoader\n",
    "\n",
    "import pickle\n",
    "import pandas as pd\n",
    "import numpy as np\n",
    "\n",
    "from pytorch import *\n",
    "\n",
    "import matplotlib.pyplot as plt\n",
    "from PIL import Image, ImageOps"
   ]
  },
  {
   "cell_type": "code",
   "execution_count": 2,
   "metadata": {},
   "outputs": [],
   "source": [
    "with open(\"train.pkl\", \"rb\") as f:\n",
    "    df = pickle.load(f)\n",
    "x = df[['x_pos', 'y_pos', 'x_vec', 'y_vec', 'x_vec2', 'y_vec2', 'x_dest', 'y_dest']].to_numpy()\n",
    "y = df[['x_tar', 'y_tar']].to_numpy()\n",
    "\n",
    "x = torch.Tensor(x)\n",
    "y = torch.Tensor(y)\n",
    "train = TensorDataset(x,y)\n",
    "train_loader = DataLoader(train, batch_size=64, shuffle=False, drop_last=True)"
   ]
  },
  {
   "cell_type": "code",
   "execution_count": 3,
   "metadata": {},
   "outputs": [],
   "source": [
    "with open(\"val.pkl\", \"rb\") as f:\n",
    "    df = pickle.load(f)\n",
    "x = df[['x_pos', 'y_pos', 'x_vec', 'y_vec', 'x_vec2', 'y_vec2', 'x_dest', 'y_dest']].to_numpy()\n",
    "y = df[['x_tar', 'y_tar']].to_numpy()\n",
    "\n",
    "x = torch.Tensor(x)\n",
    "y = torch.Tensor(y)\n",
    "val = TensorDataset(x,y)\n",
    "val_loader = DataLoader(train, batch_size=64, shuffle=False, drop_last=True)"
   ]
  },
  {
   "cell_type": "code",
   "execution_count": 4,
   "metadata": {},
   "outputs": [
    {
     "name": "stdout",
     "output_type": "stream",
     "text": [
      "Using cpu device\n"
     ]
    }
   ],
   "source": [
    "# device = 'cuda' if torch.cuda.is_available() else 'cpu'\n",
    "device = 'cpu'\n",
    "print(f'Using {device} device')"
   ]
  },
  {
   "cell_type": "code",
   "execution_count": null,
   "metadata": {},
   "outputs": [
    {
     "name": "stdout",
     "output_type": "stream",
     "text": [
      "[1/100] Training loss: 302.8286\t Validation loss: 183.9059\n",
      "[2/100] Training loss: 176.9178\t Validation loss: 156.9281\n",
      "[3/100] Training loss: 158.7217\t Validation loss: 137.2163\n",
      "[4/100] Training loss: 134.3241\t Validation loss: 109.0987\n",
      "[5/100] Training loss: 108.1004\t Validation loss: 89.5474\n",
      "[6/100] Training loss: 96.3270\t Validation loss: 82.2639\n",
      "[7/100] Training loss: 90.8696\t Validation loss: 77.7359\n",
      "[8/100] Training loss: 87.1689\t Validation loss: 77.0087\n",
      "[9/100] Training loss: 86.2768\t Validation loss: 74.4224\n",
      "[10/100] Training loss: 85.0656\t Validation loss: 75.4735\n"
     ]
    }
   ],
   "source": [
    "input_dim = 8\n",
    "output_dim = 2\n",
    "hidden_dim = 100\n",
    "layer_dim = 3\n",
    "batch_size = 64\n",
    "dropout = 0.2\n",
    "n_epochs = 100\n",
    "learning_rate = 1e-3\n",
    "weight_decay = 1e-6\n",
    "\n",
    "model_params = {'input_dim': input_dim,\n",
    "                'hidden_dim' : hidden_dim,\n",
    "                'layer_dim' : layer_dim,\n",
    "                'output_dim' : output_dim,\n",
    "                'dropout_prob' : dropout}\n",
    "\n",
    "model = get_model('LSTM', model_params).to(device)\n",
    "\n",
    "loss_fn = nn.MSELoss(reduction=\"mean\")\n",
    "optimizer = optim.Adam(model.parameters(), lr=learning_rate, weight_decay=weight_decay)\n",
    "\n",
    "opt = Optimization(model=model, loss_fn=loss_fn, optimizer=optimizer)\n",
    "opt.train(train_loader, val_loader, batch_size=batch_size, n_epochs=n_epochs, n_features=input_dim)\n",
    "opt.plot_losses()\n",
    "\n",
    "# predictions, values = opt.evaluate(test_loader_one, batch_size=1, n_features=input_dim)"
   ]
  },
  {
   "cell_type": "code",
   "execution_count": null,
   "metadata": {},
   "outputs": [],
   "source": [
    "# model = get_model('LSTM', model_params).to(device)\n",
    "# model.load_state_dict(torch.load('models/2022-02-16_16-23-29'))"
   ]
  },
  {
   "cell_type": "code",
   "execution_count": null,
   "metadata": {},
   "outputs": [],
   "source": [
    "def calc_next(x, y_pred):\n",
    "    next = torch.tensor([[\n",
    "        x[0] + y_pred[0],    # x_pos\n",
    "        x[1] + y_pred[1],    # y_pos\n",
    "        y_pred[0],           # x_vec\n",
    "        y_pred[1],           # y_vec\n",
    "        x[2],                # x_vec2\n",
    "        x[3],                # y_vec2\n",
    "        x[-2],               # x_dest\n",
    "        x[-1]                # y_dest\n",
    "    ]])\n",
    "    return next\n",
    "\n",
    "def simulate(model, inputs, iterations):\n",
    "    for i in range(iterations):\n",
    "        y_pred = model(inputs[i:])\n",
    "        next = calc_next(inputs[i], y_pred[0])\n",
    "        inputs = torch.cat((inputs, next))"
   ]
  },
  {
   "cell_type": "code",
   "execution_count": null,
   "metadata": {},
   "outputs": [],
   "source": [
    "tis = torch.tensor([\n",
    "        [[1050, 275, 0, 0, 0, 0, 1000, 470]],\n",
    "        [[580*2, 50*2, 0, 0, 0, 0, 250*2, 280*2]],\n",
    "        [[200*2, 225*2, 0, 0, 0, 0, 500*2, 250*2]],\n",
    "        [[125*2, 200*2, 0, 0, 0, 0, 460*2, 50*2]],\n",
    "        [[580*2, 50*2, 0, 0, 0, 0, 250*2, 300*2]],\n",
    "        [[150*2, 240*2, 0, 0, 0, 0, 250*2, 300*2]]\n",
    "        ]).type(torch.FloatTensor)\n",
    "\n",
    "# tis[:,::2] /= 1280\n",
    "# tis[:,1::2] /= 720\n",
    "\n",
    "fig, ax = plt.subplots(figsize=(20,20))\n",
    "im = Image.open(\"intersection2.png\")\n",
    "im = ImageOps.flip(im)\n",
    "ax.set_xlim(0,1280)\n",
    "ax.set_ylim(0,720)\n",
    "ax.imshow(im, origin='lower')\n",
    "\n",
    "inputs = tis[0].view([1, -1, 8])\n",
    "for i in range(100):\n",
    "    y_pred = model(inputs[i:])\n",
    "    next = calc_next(inputs[i][0], y_pred[0]).view(1,-1,8)\n",
    "    inputs = torch.cat((inputs, next))\n",
    "\n",
    "ax.scatter(inputs[:,:,0], inputs[:,:,1])"
   ]
  }
 ],
 "metadata": {
  "kernelspec": {
   "display_name": "Python 3",
   "language": "python",
   "name": "python3"
  },
  "language_info": {
   "codemirror_mode": {
    "name": "ipython",
    "version": 3
   },
   "file_extension": ".py",
   "mimetype": "text/x-python",
   "name": "python",
   "nbconvert_exporter": "python",
   "pygments_lexer": "ipython3",
   "version": "3.8.5"
  }
 },
 "nbformat": 4,
 "nbformat_minor": 5
}

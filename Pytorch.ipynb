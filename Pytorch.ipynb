{
 "cells": [
  {
   "cell_type": "code",
   "execution_count": null,
   "metadata": {},
   "outputs": [],
   "source": [
    "import torch\n",
    "from torch.utils.data import TensorDataset, DataLoader\n",
    "import pickle\n",
    "import pandas as pd\n",
    "import numpy as np\n",
    "import torch.nn as nn\n",
    "import torch.optim as optim\n",
    "import os\n",
    "from pytorch import *\n",
    "from mikkel import *"
   ]
  },
  {
   "cell_type": "code",
   "execution_count": null,
   "metadata": {},
   "outputs": [],
   "source": [
    "with open(\"train.pkl\", \"rb\") as f:\n",
    "    df = pickle.load(f)\n",
    "x = df[['x_pos', 'y_pos', 'x_vec', 'y_vec', 'x_vec2', 'y_vec2', 'x_dest', 'y_dest']].to_numpy()\n",
    "y = df[['x_tar', 'y_tar']].to_numpy()\n",
    "\n",
    "x = torch.Tensor(x)\n",
    "y = torch.Tensor(y)\n",
    "train = TensorDataset(x,y)\n",
    "train_loader = DataLoader(train, batch_size=64, shuffle=False, drop_last=True)"
   ]
  },
  {
   "cell_type": "code",
   "execution_count": null,
   "metadata": {},
   "outputs": [],
   "source": [
    "with open(\"val.pkl\", \"rb\") as f:\n",
    "    df = pickle.load(f)\n",
    "x = df[['x_pos', 'y_pos', 'x_vec', 'y_vec', 'x_vec2', 'y_vec2', 'x_dest', 'y_dest']].to_numpy()\n",
    "y = df[['x_tar', 'y_tar']].to_numpy()\n",
    "\n",
    "x = torch.Tensor(x)\n",
    "y = torch.Tensor(y)\n",
    "val = TensorDataset(x,y)\n",
    "val_loader = DataLoader(train, batch_size=64, shuffle=False, drop_last=True)"
   ]
  },
  {
   "cell_type": "code",
   "execution_count": null,
   "metadata": {},
   "outputs": [],
   "source": [
    "device = 'cuda' if torch.cuda.is_available() else 'cpu'\n",
    "print(f'Using {device} device')"
   ]
  },
  {
   "cell_type": "code",
   "execution_count": null,
   "metadata": {},
   "outputs": [],
   "source": [
    "input_dim = 8\n",
    "output_dim = 2\n",
    "hidden_dim = 64\n",
    "layer_dim = 3\n",
    "batch_size = 64\n",
    "dropout = 0.2\n",
    "n_epochs = 10\n",
    "learning_rate = 1e-3\n",
    "weight_decay = 1e-6\n",
    "\n",
    "model_params = {'input_dim': input_dim,\n",
    "                'hidden_dim' : hidden_dim,\n",
    "                'layer_dim' : layer_dim,\n",
    "                'output_dim' : output_dim,\n",
    "                'dropout_prob' : dropout}\n",
    "\n",
    "model = get_model('LSTM', model_params).to(device)\n",
    "\n",
    "loss_fn = nn.MSELoss(reduction=\"mean\")\n",
    "optimizer = optim.Adam(model.parameters(), lr=learning_rate, weight_decay=weight_decay)\n",
    "\n",
    "opt = Optimization(model=model, loss_fn=loss_fn, optimizer=optimizer)\n",
    "opt.train(train_loader, val_loader, batch_size=batch_size, n_epochs=n_epochs, n_features=input_dim)\n",
    "opt.plot_losses()\n",
    "\n",
    "# predictions, values = opt.evaluate(test_loader_one, batch_size=1, n_features=input_dim)"
   ]
  },
  {
   "cell_type": "code",
   "execution_count": null,
   "metadata": {},
   "outputs": [],
   "source": [
    "# torch.version.cuda\n",
    "# torch.cuda.is_available()\n",
    "# torch.cuda.current_device()\n",
    "# torch.cuda.get_device_name()"
   ]
  },
  {
   "cell_type": "code",
   "execution_count": null,
   "metadata": {},
   "outputs": [],
   "source": [
    "import torch.nn as nn\n",
    "import torch\n",
    "from torch.utils.data import TensorDataset, DataLoader\n",
    "\n",
    "import numpy as np\n",
    "\n",
    "import matplotlib.pyplot as plt\n",
    "from PIL import Image, ImageOps\n",
    "\n",
    "from mikkel import *\n",
    "import pickle"
   ]
  },
  {
   "cell_type": "code",
   "execution_count": null,
   "metadata": {},
   "outputs": [],
   "source": [
    "with open(\"train.pkl\", \"rb\") as f:\n",
    "    df = pickle.load(f)\n",
    "x = df[['x_pos', 'y_pos', 'x_vec', 'y_vec', 'x_vec2', 'y_vec2', 'x_dest', 'y_dest']].to_numpy()\n",
    "y = df[['x_tar', 'y_tar']].to_numpy()\n",
    "\n",
    "# x[:,::2] /= 1280\n",
    "# x[:,1::2] /= 720\n",
    "# y[:,0] /= 1280\n",
    "# y[:,1] /= 720\n",
    "\n",
    "x = torch.Tensor(x)\n",
    "y = torch.Tensor(y)\n",
    "\n",
    "train = TensorDataset(x,y)\n",
    "train_loader = DataLoader(train, batch_size=64, shuffle=False, drop_last=True)"
   ]
  },
  {
   "cell_type": "code",
   "execution_count": null,
   "metadata": {},
   "outputs": [],
   "source": [
    "# device = 'cuda' if torch.cuda.is_available() else 'cpu'\n",
    "device = 'cpu'\n",
    "print(f'Using {device} device')"
   ]
  },
  {
   "cell_type": "code",
   "execution_count": null,
   "metadata": {
    "scrolled": true
   },
   "outputs": [],
   "source": [
    "model = Mikkel().to(device)\n",
    "\n",
    "criterion = torch.nn.MSELoss(reduction='sum')\n",
    "optimizer = torch.optim.SGD(model.parameters(), lr=1e-8, momentum=0.9)\n",
    "\n",
    "for t in range(300):\n",
    "    # Forward pass: Compute predicted y by passing x to the model\n",
    "    y_pred = model(x)\n",
    "\n",
    "    # Compute and print loss\n",
    "    loss = criterion(y_pred, y)\n",
    "#     if t % 2000 == 1999:\n",
    "#         print(t, loss.item())\n",
    "\n",
    "    # Zero gradients, perform a backward pass, and update the weights.\n",
    "    optimizer.zero_grad()\n",
    "    loss.backward()\n",
    "    optimizer.step()\n",
    "    print(t)\n",
    "\n",
    "# print(f'Result: {model.string()}')"
   ]
  },
  {
   "cell_type": "code",
   "execution_count": null,
   "metadata": {},
   "outputs": [],
   "source": [
    "def calc_next(x, y_pred):\n",
    "    next = torch.tensor([[\n",
    "        x[0] + y_pred[0],    # x_pos\n",
    "        x[1] + y_pred[1],    # y_pos\n",
    "        y_pred[0],           # x_vec\n",
    "        y_pred[1],           # y_vec\n",
    "        x[2],                # x_vec2\n",
    "        x[3],                # y_vec2\n",
    "        x[-2],               # x_dest\n",
    "        x[-1]                # y_dest\n",
    "    ]])\n",
    "    return next\n",
    "\n",
    "def simulate(model, inputs, iterations):\n",
    "    for i in range(iterations):\n",
    "        y_pred = model(inputs[i:])\n",
    "        next = calc_next(inputs[i], y_pred[0])\n",
    "        inputs = torch.cat((inputs, next))"
   ]
  },
  {
   "cell_type": "code",
   "execution_count": null,
   "metadata": {},
   "outputs": [],
   "source": [
    "model(x)"
   ]
  },
  {
   "cell_type": "code",
   "execution_count": null,
   "metadata": {},
   "outputs": [],
   "source": [
    "tis = torch.tensor([\n",
    "        [[1050, 275, 0, 0, 0, 0, 1000, 470]],\n",
    "        [[580*2, 50*2, 0, 0, 0, 0, 250*2, 280*2]],\n",
    "        [[200*2, 225*2, 0, 0, 0, 0, 500*2, 250*2]],\n",
    "        [[125*2, 200*2, 0, 0, 0, 0, 460*2, 50*2]],\n",
    "        [[580*2, 50*2, 0, 0, 0, 0, 250*2, 300*2]],\n",
    "        [[150*2, 240*2, 0, 0, 0, 0, 250*2, 300*2]]\n",
    "        ]).type(torch.FloatTensor)\n",
    "\n",
    "# tis[:,::2] /= 1280\n",
    "# tis[:,1::2] /= 720\n",
    "\n",
    "fig, ax = plt.subplots(figsize=(20,20))\n",
    "im = Image.open(\"intersection2.png\")\n",
    "im = ImageOps.flip(im)\n",
    "ax.set_xlim(0,1280)\n",
    "ax.set_ylim(0,720)\n",
    "ax.imshow(im, origin='lower')\n",
    "\n",
    "inputs = tis[5]\n",
    "for i in range(100):\n",
    "    y_pred = model(inputs[i:])\n",
    "    next = calc_next(inputs[i], y_pred[0])\n",
    "    inputs = torch.cat((inputs, next))\n",
    "\n",
    "ax.scatter(inputs[:,0], inputs[:,1])"
   ]
  }
 ],
 "metadata": {
  "kernelspec": {
   "display_name": "Python 3",
   "language": "python",
   "name": "python3"
  },
  "language_info": {
   "codemirror_mode": {
    "name": "ipython",
    "version": 3
   },
   "file_extension": ".py",
   "mimetype": "text/x-python",
   "name": "python",
   "nbconvert_exporter": "python",
   "pygments_lexer": "ipython3",
   "version": "3.8.5"
  }
 },
 "nbformat": 4,
 "nbformat_minor": 5
}

{
 "cells": [
  {
   "cell_type": "code",
   "execution_count": 1,
   "metadata": {},
   "outputs": [],
   "source": [
    "import pickle\n",
    "import numpy as np\n",
    "import pandas as pd\n",
    "import matplotlib.pyplot as plt\n",
    "from PIL import Image, ImageOps"
   ]
  },
  {
   "cell_type": "code",
   "execution_count": 2,
   "metadata": {},
   "outputs": [],
   "source": [
    "with open('bsc-3m/traj_clustered.pkl', 'rb') as f:\n",
    "    df = pickle.load(f)\n",
    "with open('bsc-3m/traj_01_elab_new.pkl', 'rb') as f:\n",
    "    frames = pickle.load(f)\n",
    "    \n",
    "df = df.join(frames['frames'])\n",
    "df = df.loc[df['cluster'] != -1]"
   ]
  },
  {
   "cell_type": "code",
   "execution_count": 3,
   "metadata": {},
   "outputs": [],
   "source": [
    "with open('bsc-3m/signal_lines_true.pickle', 'rb') as f:\n",
    "    l_xy = pickle.load(f)\n",
    "\n",
    "# map lights to clusters\n",
    "# for n in range(24):\n",
    "#     fig, ax = plt.subplots(figsize=(20,20))\n",
    "#     im = Image.open(\"intersection2.png\")\n",
    "#     im = ImageOps.flip(im)\n",
    "#     ax.set_xlim(0,1280)\n",
    "#     ax.set_ylim(0,720)\n",
    "#     ax.imshow(im, origin='lower')\n",
    "\n",
    "#     mask = df['cluster'] == 0\n",
    "#     s = df.loc[mask]\n",
    "#     for _, row in s.iterrows():\n",
    "#         ax.plot(row['xs'], row['ys'], c='b', alpha=0.05)\n",
    "#     ax.plot(lights[n]['x'], lights[n]['y'], lw=20)\n",
    "#     ax.set_title('number: ' + str(n))"
   ]
  },
  {
   "cell_type": "code",
   "execution_count": 4,
   "metadata": {},
   "outputs": [],
   "source": [
    "light_dict = {\n",
    "    0 : 7,\n",
    "    1 : 6,\n",
    "    2 : 5,\n",
    "    3 : 9,\n",
    "    4 : 8,\n",
    "    5 : 6,\n",
    "    6 : 10,\n",
    "    7 : 6,\n",
    "    8 : 4,\n",
    "    9 : 4, \n",
    "    10 : 11,\n",
    "    11 : 5\n",
    "}"
   ]
  },
  {
   "cell_type": "code",
   "execution_count": 5,
   "metadata": {},
   "outputs": [],
   "source": [
    "l_df = pd.read_csv('bsc-3m/signals_dense.csv')"
   ]
  },
  {
   "cell_type": "code",
   "execution_count": 6,
   "metadata": {},
   "outputs": [],
   "source": [
    "def euc(x, y):\n",
    "    v = np.vstack((x, y)).T\n",
    "    distances = np.linalg.norm(v[:-1] - v[1:], axis=1)\n",
    "    return distances"
   ]
  },
  {
   "cell_type": "code",
   "execution_count": 7,
   "metadata": {},
   "outputs": [],
   "source": [
    "def get_mid(n):\n",
    "    return np.array([sum(n['x'])/2, sum(n['y'])/2])"
   ]
  },
  {
   "cell_type": "code",
   "execution_count": 8,
   "metadata": {},
   "outputs": [],
   "source": [
    "def d2l(x, y, mid):\n",
    "    v = np.vstack((x, y)).T\n",
    "    return np.linalg.norm(v - mid, axis=1)"
   ]
  },
  {
   "cell_type": "code",
   "execution_count": 9,
   "metadata": {},
   "outputs": [],
   "source": [
    "d = {\n",
    "    'x' : [],\n",
    "    'y' : [],\n",
    "    'euc' : [],\n",
    "    'd_light' : [],\n",
    "    'light_color' : [],\n",
    "    'frames' : [],\n",
    "    'class' : [],\n",
    "    'cluster' : []\n",
    "}\n",
    "\n",
    "step_size = 1\n",
    "for _, row in df.iterrows():\n",
    "    rowx = np.array(row['xs'][::step_size])\n",
    "    rowy = np.array(row['ys'][::step_size])\n",
    "    frames = np.array(row['frames'][::step_size][:-1])\n",
    "    l_mid = get_mid(l_xy[light_dict[row['cluster']]])\n",
    "    \n",
    "    d['x'].append(rowx[:-1])\n",
    "    d['y'].append(rowy[:-1])\n",
    "    d['light_color'].append(np.array([l_df.iloc[f][light_dict[row['cluster']]] for f in frames]))\n",
    "    d['d_light'].append(d2l(rowx[:-1], rowy[:-1], l_mid))\n",
    "    d['euc'].append(euc(rowx, rowy))\n",
    "    d['frames'].append(frames)\n",
    "    d['class'].append(row['class'])\n",
    "    d['cluster'].append(row['cluster'])\n",
    "\n",
    "pdf = pd.DataFrame(d)"
   ]
  },
  {
   "cell_type": "code",
   "execution_count": 11,
   "metadata": {},
   "outputs": [],
   "source": [
    "with open('formatted.pkl', 'wb') as f:\n",
    "    pickle.dump(pdf, f)"
   ]
  },
  {
   "cell_type": "code",
   "execution_count": 18,
   "metadata": {},
   "outputs": [
    {
     "data": {
      "text/plain": [
       "(array([290., 315., 191., 200., 769., 106., 123., 172., 386., 290., 971.]),\n",
       " array([ 0,  1,  2,  3,  4,  5,  6,  7,  8,  9, 10, 11]),\n",
       " <BarContainer object of 11 artists>)"
      ]
     },
     "execution_count": 18,
     "metadata": {},
     "output_type": "execute_result"
    },
    {
     "data": {
      "image/png": "[encoded data removed]",
      "text/plain": [
       "<Figure size 432x288 with 1 Axes>"
      ]
     },
     "metadata": {
      "needs_background": "light"
     },
     "output_type": "display_data"
    }
   ],
   "source": [
    "plt.hist(pdf['cluster'], bins=np.arange(12))"
   ]
  }
 ],
 "metadata": {
  "kernelspec": {
   "display_name": "Python 3",
   "language": "python",
   "name": "python3"
  },
  "language_info": {
   "codemirror_mode": {
    "name": "ipython",
    "version": 3
   },
   "file_extension": ".py",
   "mimetype": "text/x-python",
   "name": "python",
   "nbconvert_exporter": "python",
   "pygments_lexer": "ipython3",
   "version": "3.8.5"
  }
 },
 "nbformat": 4,
 "nbformat_minor": 4
}

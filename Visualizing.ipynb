{
 "cells": [
  {
   "cell_type": "code",
   "execution_count": null,
   "metadata": {},
   "outputs": [],
   "source": [
    "import pickle\n",
    "import pandas as pd\n",
    "import numpy as np\n",
    "import matplotlib.pyplot as plt\n",
    "from PIL import Image, ImageOps\n",
    "\n",
    "from sklearn.neural_network import MLPRegressor"
   ]
  },
  {
   "cell_type": "code",
   "execution_count": null,
   "metadata": {},
   "outputs": [],
   "source": [
    "with open(\"bsc-3m/traj_01_elab.pkl\", \"rb\") as f:\n",
    "    df = pickle.load(f)"
   ]
  },
  {
   "cell_type": "code",
   "execution_count": null,
   "metadata": {},
   "outputs": [],
   "source": [
    "#id, class, xs, ys (or actually xs_640x360, ys_640x360 to plot it on the video/frame)\n",
    "cols=[\"id\",\"class\",\"xs\",\"ys\", \"xs_640x360\", \"ys_640x360\", \"times\", \"frame_in\", \"frame_out\", \"num_frames\"]\n",
    "data = df[cols]\n",
    "data = data.loc[data['class'] == 'Car'] # select cars"
   ]
  },
  {
   "cell_type": "code",
   "execution_count": null,
   "metadata": {},
   "outputs": [],
   "source": [
    "# load and process image\n",
    "im = Image.open(\"intersection2.png\")\n",
    "im = ImageOps.flip(im)\n",
    "\n",
    "# create figure\n",
    "fig, ax = plt.subplots(figsize=(20,20))\n",
    "ax.imshow(im, origin='lower')\n",
    "for i in range(1000): #len(data)):\n",
    "    ax.scatter(df[\"xs_640x360\"].iloc[i], df[\"ys_640x360\"].iloc[i], alpha=0.5, s=1, label=\"class\")"
   ]
  },
  {
   "cell_type": "code",
   "execution_count": null,
   "metadata": {},
   "outputs": [],
   "source": [
    "from matplotlib.animation import FuncAnimation\n",
    "plt.style.use('ggplot')\n",
    "\n",
    "fig, ax = plt.subplots(figsize=(10,10))\n",
    "ax.imshow(im, origin='lower')\n",
    "\n",
    "k = ax.scatter([], [], alpha=0.4)\n",
    "\n",
    "def animate(i):\n",
    "    asd = []\n",
    "    for n in range(50):\n",
    "        try:\n",
    "            a = data['xs_640x360'].iloc[n]\n",
    "            b = data['ys_640x360'].iloc[n]\n",
    "            asd += [[a[n], b[n]] for n in range(i)]\n",
    "        except:\n",
    "            pass\n",
    "    if i==0:\n",
    "        k.set_offsets([[0,0]])\n",
    "    else:\n",
    "        k.set_offsets(asd)\n",
    "    return k\n",
    "\n",
    "anim = FuncAnimation(\n",
    "    fig, animate, interval=30, frames=1000)#, blit=True)\n",
    "\n",
    "\n",
    "anim.save('jeff.gif')"
   ]
  }
 ],
 "metadata": {
  "kernelspec": {
   "display_name": "Python 3",
   "language": "python",
   "name": "python3"
  },
  "language_info": {
   "codemirror_mode": {
    "name": "ipython",
    "version": 3
   },
   "file_extension": ".py",
   "mimetype": "text/x-python",
   "name": "python",
   "nbconvert_exporter": "python",
   "pygments_lexer": "ipython3",
   "version": "3.8.5"
  }
 },
 "nbformat": 4,
 "nbformat_minor": 4
}
